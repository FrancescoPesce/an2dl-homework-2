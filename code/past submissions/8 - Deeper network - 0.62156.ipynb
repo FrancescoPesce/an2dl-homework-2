{
 "cells": [
  {
   "cell_type": "markdown",
   "metadata": {
    "id": "nuwVgG3Vbbka"
   },
   "source": [
    "# Artificial Neural Networks and Deep Learning - Homework 2\n"
   ]
  },
  {
   "cell_type": "markdown",
   "metadata": {
    "id": "d7IqZP5Iblna"
   },
   "source": [
    "## ⚙️ Import Libraries"
   ]
  },
  {
   "cell_type": "code",
   "execution_count": null,
   "metadata": {
    "execution": {
     "iopub.execute_input": "2024-12-13T14:21:14.632629Z",
     "iopub.status.busy": "2024-12-13T14:21:14.632128Z",
     "iopub.status.idle": "2024-12-13T14:21:23.526139Z",
     "shell.execute_reply": "2024-12-13T14:21:23.525222Z",
     "shell.execute_reply.started": "2024-12-13T14:21:14.632599Z"
    },
    "trusted": true
   },
   "outputs": [],
   "source": [
    "!pip install focal-loss # default Keras focal loss does not support class weights "
   ]
  },
  {
   "cell_type": "code",
   "execution_count": null,
   "metadata": {
    "execution": {
     "iopub.execute_input": "2024-12-13T14:46:08.481666Z",
     "iopub.status.busy": "2024-12-13T14:46:08.480892Z",
     "iopub.status.idle": "2024-12-13T14:46:08.523177Z",
     "shell.execute_reply": "2024-12-13T14:46:08.522220Z",
     "shell.execute_reply.started": "2024-12-13T14:46:08.481631Z"
    },
    "id": "CO6_Ft_8T56A",
    "outputId": "7ead05bc-0d0b-4c0c-80af-4c7e2d0f588e",
    "trusted": true
   },
   "outputs": [],
   "source": [
    "import os\n",
    "from datetime import datetime\n",
    "\n",
    "import numpy as np\n",
    "import pandas as pd\n",
    "\n",
    "import tensorflow as tf\n",
    "from tensorflow import keras as tfk\n",
    "from tensorflow.keras import layers as tfkl\n",
    "\n",
    "import matplotlib.pyplot as plt\n",
    "\n",
    "import focal_loss\n",
    "\n",
    "%matplotlib inline\n",
    "\n",
    "from sklearn.model_selection import train_test_split\n",
    "\n",
    "seed = 14\n",
    "np.random.seed(seed)\n",
    "tf.random.set_seed(seed)\n",
    "\n",
    "print(f\"TensorFlow version: {tf.__version__}\")\n",
    "print(f\"Keras version: {tfk.__version__}\")\n",
    "print(f\"GPU devices: {len(tf.config.list_physical_devices('GPU'))}\")"
   ]
  },
  {
   "cell_type": "markdown",
   "metadata": {
    "id": "GN_cpHlSboXV"
   },
   "source": [
    "## ⏳ Load and prepare the Data"
   ]
  },
  {
   "cell_type": "code",
   "execution_count": null,
   "metadata": {
    "execution": {
     "iopub.execute_input": "2024-12-13T14:45:10.450731Z",
     "iopub.status.busy": "2024-12-13T14:45:10.449990Z",
     "iopub.status.idle": "2024-12-13T14:45:11.800910Z",
     "shell.execute_reply": "2024-12-13T14:45:11.800092Z",
     "shell.execute_reply.started": "2024-12-13T14:45:10.450694Z"
    },
    "id": "pLaoDaG1V1Yg",
    "outputId": "94b2ba51-e0a4-4b54-a8f3-b9d57cfde66c",
    "trusted": true
   },
   "outputs": [],
   "source": [
    "data = np.load(\"/kaggle/input/homework2/mars_for_students.npz\")\n",
    "\n",
    "training_set = data[\"training_set\"]\n",
    "X_train = training_set[:, 0]\n",
    "y_train = training_set[:, 1]\n",
    "\n",
    "X_test = data[\"test_set\"]\n",
    "\n",
    "print(f\"Training X shape: {X_train.shape}\")\n",
    "print(f\"Training y shape: {y_train.shape}\")\n",
    "print(f\"Test X shape: {X_test.shape}\")"
   ]
  },
  {
   "cell_type": "code",
   "execution_count": null,
   "metadata": {
    "execution": {
     "iopub.execute_input": "2024-12-13T14:45:12.329939Z",
     "iopub.status.busy": "2024-12-13T14:45:12.329037Z",
     "iopub.status.idle": "2024-12-13T14:45:13.221820Z",
     "shell.execute_reply": "2024-12-13T14:45:13.220801Z",
     "shell.execute_reply.started": "2024-12-13T14:45:12.329902Z"
    },
    "id": "VmnTgJi_OOs1",
    "outputId": "18634c98-4b98-4501-d71a-316d1067069a",
    "trusted": true
   },
   "outputs": [],
   "source": [
    "# Add color channel and rescale pixels between 0 and 1\n",
    "X_train = X_train[..., np.newaxis] / 255.0\n",
    "X_test = X_test[..., np.newaxis] / 255.0\n",
    "\n",
    "input_shape = X_train.shape[1:]\n",
    "num_classes = len(np.unique(y_train))\n",
    "\n",
    "print(f\"Input shape: {input_shape}\")\n",
    "print(f\"Number of classes: {num_classes}\")"
   ]
  },
  {
   "cell_type": "code",
   "execution_count": null,
   "metadata": {
    "execution": {
     "iopub.execute_input": "2024-12-13T14:45:17.821407Z",
     "iopub.status.busy": "2024-12-13T14:45:17.821020Z",
     "iopub.status.idle": "2024-12-13T14:45:17.925140Z",
     "shell.execute_reply": "2024-12-13T14:45:17.924263Z",
     "shell.execute_reply.started": "2024-12-13T14:45:17.821376Z"
    },
    "id": "T0YMlH-z4XY3",
    "outputId": "3211653a-cac4-4179-d351-f2b029a4516b",
    "trusted": true
   },
   "outputs": [],
   "source": [
    "# Remove outliers (containing aliens)\n",
    "outliers = [\n",
    "    62,\n",
    "    79,\n",
    "    125,\n",
    "    139,\n",
    "    142,\n",
    "    147,\n",
    "    152,\n",
    "    156,\n",
    "    170,\n",
    "    210,\n",
    "    217,\n",
    "    266,\n",
    "    289,\n",
    "    299,\n",
    "    313,\n",
    "    339,\n",
    "    348,\n",
    "    365,\n",
    "    412,\n",
    "    417,\n",
    "    426,\n",
    "    450,\n",
    "    461,\n",
    "    536,\n",
    "    552,\n",
    "    669,\n",
    "    675,\n",
    "    741,\n",
    "    744,\n",
    "    747,\n",
    "    799,\n",
    "    802,\n",
    "    808,\n",
    "    820,\n",
    "    821,\n",
    "    849,\n",
    "    863,\n",
    "    890,\n",
    "    909,\n",
    "    942,\n",
    "    971,\n",
    "    1005,\n",
    "    1057,\n",
    "    1079,\n",
    "    1082,\n",
    "    1092,\n",
    "    1095,\n",
    "    1106,\n",
    "    1119,\n",
    "    1125,\n",
    "    1177,\n",
    "    1194,\n",
    "    1224,\n",
    "    1247,\n",
    "    1248,\n",
    "    1258,\n",
    "    1261,\n",
    "    1262,\n",
    "    1306,\n",
    "    1324,\n",
    "    1365,\n",
    "    1370,\n",
    "    1443,\n",
    "    1449,\n",
    "    1508,\n",
    "    1509,\n",
    "    1519,\n",
    "    1551,\n",
    "    1584,\n",
    "    1588,\n",
    "    1628,\n",
    "    1637,\n",
    "    1693,\n",
    "    1736,\n",
    "    1767,\n",
    "    1768,\n",
    "    1782,\n",
    "    1813,\n",
    "    1816,\n",
    "    1834,\n",
    "    1889,\n",
    "    1925,\n",
    "    1942,\n",
    "    1975,\n",
    "    1979,\n",
    "    2000,\n",
    "    2002,\n",
    "    2086,\n",
    "    2096,\n",
    "    2110,\n",
    "    2111,\n",
    "    2151,\n",
    "    2161,\n",
    "    2222,\n",
    "    2235,\n",
    "    2239,\n",
    "    2242,\n",
    "    2301,\n",
    "    2307,\n",
    "    2350,\n",
    "    2361,\n",
    "    2365,\n",
    "    2372,\n",
    "    2414,\n",
    "    2453,\n",
    "    2522,\n",
    "    2535,\n",
    "    2561,\n",
    "    2609,\n",
    "    2614,\n",
    "]\n",
    "X_train = np.delete(X_train, outliers, axis=0)\n",
    "y_train = np.delete(y_train, outliers, axis=0)\n",
    "\n",
    "# Print the new shape\n",
    "print(f\"Training X shape after outlier removal: {X_train.shape}\")\n",
    "print(f\"Training y shape after outlier removal: {y_train.shape}\")\n",
    "print(f\"Test X shape: {X_test.shape}\")"
   ]
  },
  {
   "cell_type": "code",
   "execution_count": null,
   "metadata": {
    "execution": {
     "iopub.execute_input": "2024-12-13T14:45:19.712324Z",
     "iopub.status.busy": "2024-12-13T14:45:19.711440Z",
     "iopub.status.idle": "2024-12-13T14:45:20.787318Z",
     "shell.execute_reply": "2024-12-13T14:45:20.786353Z",
     "shell.execute_reply.started": "2024-12-13T14:45:19.712259Z"
    },
    "id": "yOybrVCSWbSM",
    "outputId": "27922b4f-8971-4671-d6b1-3e457bc41b3f",
    "trusted": true
   },
   "outputs": [],
   "source": [
    "# Count the number of pixels with a given label\n",
    "label_list, counts = np.unique(y_train, return_counts=True)\n",
    "for label, count in zip(label_list, counts):\n",
    "    print(f\"Number of pixels with label {int(label)}: {count}\")"
   ]
  },
  {
   "cell_type": "code",
   "execution_count": null,
   "metadata": {
    "execution": {
     "iopub.execute_input": "2024-12-13T14:50:07.285383Z",
     "iopub.status.busy": "2024-12-13T14:50:07.284999Z",
     "iopub.status.idle": "2024-12-13T14:50:07.290834Z",
     "shell.execute_reply": "2024-12-13T14:50:07.289948Z",
     "shell.execute_reply.started": "2024-12-13T14:50:07.285351Z"
    },
    "trusted": true
   },
   "outputs": [],
   "source": [
    "class_weights = [sum(counts) / counts[i] for i in range(num_classes)]\n",
    "class_weights[0] = 0\n",
    "print(class_weights)"
   ]
  },
  {
   "cell_type": "code",
   "execution_count": null,
   "metadata": {
    "execution": {
     "iopub.execute_input": "2024-12-13T14:21:30.319395Z",
     "iopub.status.busy": "2024-12-13T14:21:30.319116Z",
     "iopub.status.idle": "2024-12-13T14:21:30.473810Z",
     "shell.execute_reply": "2024-12-13T14:21:30.472794Z",
     "shell.execute_reply.started": "2024-12-13T14:21:30.319369Z"
    },
    "id": "JZnHdPUyWbSM",
    "outputId": "7fd61944-9265-49e5-aa82-54243597ffe7",
    "trusted": true
   },
   "outputs": [],
   "source": [
    "# Count the number of images containing a pixel with a given label\n",
    "counts = [0 for _ in range(num_classes)]\n",
    "for labels in y_train:\n",
    "    label_list = np.unique(labels)\n",
    "    for value in label_list:\n",
    "        counts[int(value)] += 1\n",
    "for label, count in enumerate(counts):\n",
    "    print(f\"Number of images containing label {int(label)}: {count}\")"
   ]
  },
  {
   "cell_type": "code",
   "execution_count": null,
   "metadata": {
    "execution": {
     "iopub.execute_input": "2024-12-13T14:21:30.475430Z",
     "iopub.status.busy": "2024-12-13T14:21:30.475155Z",
     "iopub.status.idle": "2024-12-13T14:21:30.631291Z",
     "shell.execute_reply": "2024-12-13T14:21:30.630335Z",
     "shell.execute_reply.started": "2024-12-13T14:21:30.475403Z"
    },
    "id": "Wjd3qq9eWbSM",
    "trusted": true
   },
   "outputs": [],
   "source": [
    "# Since there are few images with label 4, stratify using the presence of label 4\n",
    "stratify = []\n",
    "for labels in y_train:\n",
    "    label_list = np.unique(labels)\n",
    "    if 4.0 in label_list:\n",
    "        stratify.append(1)\n",
    "    else:\n",
    "        stratify.append(0)\n",
    "stratify = np.array(stratify)"
   ]
  },
  {
   "cell_type": "code",
   "execution_count": null,
   "metadata": {
    "execution": {
     "iopub.execute_input": "2024-12-13T14:21:30.632643Z",
     "iopub.status.busy": "2024-12-13T14:21:30.632385Z",
     "iopub.status.idle": "2024-12-13T14:21:30.733955Z",
     "shell.execute_reply": "2024-12-13T14:21:30.733268Z",
     "shell.execute_reply.started": "2024-12-13T14:21:30.632619Z"
    },
    "id": "i-n9_2Eftvp5",
    "trusted": true
   },
   "outputs": [],
   "source": [
    "# Split into training and validation (80-20)\n",
    "val_size = 0.1\n",
    "X_train, X_val, y_train, y_val = train_test_split(\n",
    "    X_train, y_train, random_state=seed, test_size=val_size, stratify=stratify\n",
    ")"
   ]
  },
  {
   "cell_type": "code",
   "execution_count": null,
   "metadata": {
    "execution": {
     "iopub.execute_input": "2024-12-13T14:21:30.735418Z",
     "iopub.status.busy": "2024-12-13T14:21:30.735019Z",
     "iopub.status.idle": "2024-12-13T14:21:30.891348Z",
     "shell.execute_reply": "2024-12-13T14:21:30.890468Z",
     "shell.execute_reply.started": "2024-12-13T14:21:30.735379Z"
    },
    "id": "Pm7vk2q3WbSN",
    "outputId": "f507b092-309a-49ce-80d0-cdf8f4ad841d",
    "trusted": true
   },
   "outputs": [],
   "source": [
    "# Check imbalance between training and validation\n",
    "train_counts = [0 for _ in range(num_classes)]\n",
    "for labels in y_train:\n",
    "    label_list = np.unique(labels)\n",
    "    for value in label_list:\n",
    "        train_counts[int(value)] += 1\n",
    "\n",
    "val_counts = [0 for _ in range(num_classes)]\n",
    "for labels in y_val:\n",
    "    label_list = np.unique(labels)\n",
    "    for value in label_list:\n",
    "        val_counts[int(value)] += 1\n",
    "\n",
    "ratios = [val_counts[i] / train_counts[i] / val_size for i in range(num_classes)]\n",
    "\n",
    "for i in range(num_classes):\n",
    "    print(\n",
    "        f\"Ratio of images containing a label in validation vs train compared to ideal split for label {i}: {ratios[i]}\"\n",
    "    )"
   ]
  },
  {
   "cell_type": "code",
   "execution_count": null,
   "metadata": {
    "execution": {
     "iopub.execute_input": "2024-12-13T14:21:30.892793Z",
     "iopub.status.busy": "2024-12-13T14:21:30.892499Z",
     "iopub.status.idle": "2024-12-13T14:21:30.898268Z",
     "shell.execute_reply": "2024-12-13T14:21:30.897286Z",
     "shell.execute_reply.started": "2024-12-13T14:21:30.892767Z"
    },
    "id": "bScns-4GYaOt",
    "trusted": true
   },
   "outputs": [],
   "source": [
    "category_map = {\n",
    "    0: 0,  # background\n",
    "    1: 1,  # soil\n",
    "    2: 2,  # bedrock\n",
    "    3: 3,  # sand\n",
    "    4: 4,  # big rock\n",
    "}\n",
    "\n",
    "\n",
    "def apply_category_mapping(label):\n",
    "    \"\"\"\n",
    "    Apply category mapping to labels.\n",
    "    \"\"\"\n",
    "    keys_tensor = tf.constant(list(category_map.keys()), dtype=tf.int32)\n",
    "    vals_tensor = tf.constant(list(category_map.values()), dtype=tf.int32)\n",
    "    table = tf.lookup.StaticHashTable(\n",
    "        tf.lookup.KeyValueTensorInitializer(keys_tensor, vals_tensor), default_value=0\n",
    "    )\n",
    "    return table.lookup(label)"
   ]
  },
  {
   "cell_type": "code",
   "execution_count": null,
   "metadata": {
    "execution": {
     "iopub.execute_input": "2024-12-13T14:21:30.903645Z",
     "iopub.status.busy": "2024-12-13T14:21:30.903318Z",
     "iopub.status.idle": "2024-12-13T14:21:30.914196Z",
     "shell.execute_reply": "2024-12-13T14:21:30.913458Z",
     "shell.execute_reply.started": "2024-12-13T14:21:30.903620Z"
    },
    "id": "rTVu93r6Yb8r",
    "trusted": true
   },
   "outputs": [],
   "source": [
    "@tf.function\n",
    "def random_flip_h(image, label):\n",
    "    \"\"\"Consistent random horizontal flip.\"\"\"\n",
    "    flip_prob = tf.random.uniform([])\n",
    "    image = tf.cond(\n",
    "        flip_prob > 0.5, lambda: tf.image.flip_left_right(image), lambda: image\n",
    "    )\n",
    "    label = tf.cond(\n",
    "        flip_prob > 0.5, lambda: tf.image.flip_left_right(label), lambda: label\n",
    "    )\n",
    "    return image, label\n",
    "\n",
    "\n",
    "@tf.function\n",
    "def random_flip_v(image, label):\n",
    "    \"\"\"Consistent random vertical flip.\"\"\"\n",
    "    flip_prob = tf.random.uniform([])\n",
    "    image = tf.cond(\n",
    "        flip_prob > 0.5, lambda: tf.image.flip_up_down(image), lambda: image\n",
    "    )\n",
    "    label = tf.cond(\n",
    "        flip_prob > 0.5, lambda: tf.image.flip_up_down(label), lambda: label\n",
    "    )\n",
    "    return image, label\n",
    "\n",
    "\n",
    "@tf.function\n",
    "def random_brightness(image):\n",
    "    delta = tf.random.uniform([])\n",
    "    delta_thresh = 0.1\n",
    "    image = tf.cond(\n",
    "        delta < 3 * delta_thresh,\n",
    "        lambda: tf.image.adjust_brightness(image, delta=delta),\n",
    "        lambda: image,\n",
    "    )\n",
    "    return image\n",
    "\n",
    "\n",
    "@tf.function\n",
    "def random_contrast(image):\n",
    "    factor = tf.random.uniform([])\n",
    "    factor_thresh = 2\n",
    "    image = tf.cond(\n",
    "        factor < factor_thresh / 6,\n",
    "        lambda: tf.image.adjust_contrast(image, contrast_factor=factor),\n",
    "        lambda: image,\n",
    "    )\n",
    "    return image\n",
    "\n",
    "\n",
    "@tf.function\n",
    "def augmentation(image, label, seed=None):\n",
    "    image, label = random_flip_h(image, label)\n",
    "    # image, label = random_flip_v(image, label)\n",
    "    # image = random_brightness(image)\n",
    "    # image = random_contrast(image)\n",
    "    return image, label"
   ]
  },
  {
   "cell_type": "code",
   "execution_count": null,
   "metadata": {
    "execution": {
     "iopub.execute_input": "2024-12-13T14:21:30.915424Z",
     "iopub.status.busy": "2024-12-13T14:21:30.915113Z",
     "iopub.status.idle": "2024-12-13T14:21:30.930199Z",
     "shell.execute_reply": "2024-12-13T14:21:30.929392Z",
     "shell.execute_reply.started": "2024-12-13T14:21:30.915399Z"
    },
    "id": "-kKiHcV0YePz",
    "trusted": true
   },
   "outputs": [],
   "source": [
    "def make_dataset(images, labels, batch_size, shuffle=True, augment=False, seed=None):\n",
    "    \"\"\"\n",
    "    Create a memory-efficient TensorFlow dataset.\n",
    "    \"\"\"\n",
    "    # Add an axis to labels\n",
    "    new_labels = labels[..., np.newaxis]\n",
    "\n",
    "    # Create dataset from file paths\n",
    "    dataset = tf.data.Dataset.from_tensor_slices((images, new_labels))\n",
    "\n",
    "    if shuffle:\n",
    "        dataset = dataset.shuffle(buffer_size=batch_size * 2, seed=seed)\n",
    "\n",
    "    # Apply category mapping\n",
    "    dataset = dataset.map(\n",
    "        lambda x, y: (x, apply_category_mapping(y)), num_parallel_calls=tf.data.AUTOTUNE\n",
    "    )\n",
    "\n",
    "    if augment:\n",
    "        dataset = dataset.map(\n",
    "            lambda x, y: augmentation(x, y, seed=seed),\n",
    "            num_parallel_calls=tf.data.AUTOTUNE,\n",
    "        )\n",
    "\n",
    "    # Batch the data\n",
    "    dataset = dataset.batch(batch_size, drop_remainder=False)\n",
    "    dataset = dataset.prefetch(tf.data.AUTOTUNE)\n",
    "\n",
    "    return dataset"
   ]
  },
  {
   "cell_type": "code",
   "execution_count": null,
   "metadata": {
    "execution": {
     "iopub.execute_input": "2024-12-13T14:21:30.931333Z",
     "iopub.status.busy": "2024-12-13T14:21:30.931100Z",
     "iopub.status.idle": "2024-12-13T14:21:33.297357Z",
     "shell.execute_reply": "2024-12-13T14:21:33.296498Z",
     "shell.execute_reply.started": "2024-12-13T14:21:30.931310Z"
    },
    "id": "QWAcW_6IY2D0",
    "outputId": "b25677ad-7616-4747-ba61-5591aac27d38",
    "trusted": true
   },
   "outputs": [],
   "source": [
    "batch_size = 16\n",
    "\n",
    "# Create the datasets\n",
    "print(\"Creating datasets...\")\n",
    "train_dataset = make_dataset(\n",
    "    X_train,\n",
    "    y_train.astype(\"int32\"),\n",
    "    batch_size=batch_size,\n",
    "    shuffle=False,\n",
    "    augment=False,\n",
    "    seed=seed,\n",
    ")\n",
    "\n",
    "val_dataset = make_dataset(\n",
    "    X_val, y_val.astype(\"int32\"), batch_size=batch_size, shuffle=False\n",
    ")\n",
    "\n",
    "print(\"Datasets created!\")\n",
    "\n",
    "# Check the shape of the data\n",
    "for images, labels in train_dataset.take(1):\n",
    "    input_shape = images.shape[1:]\n",
    "    print(f\"\\nInput shape: {input_shape}\")\n",
    "    print(\"Images shape:\", images.shape)\n",
    "    print(\"Labels shape:\", labels.shape)\n",
    "    print(\"Labels dtype:\", labels.dtype)\n",
    "    break"
   ]
  },
  {
   "cell_type": "markdown",
   "metadata": {
    "id": "X-oP7zvmjmfx"
   },
   "source": [
    "## Analyze the data"
   ]
  },
  {
   "cell_type": "code",
   "execution_count": null,
   "metadata": {
    "execution": {
     "iopub.execute_input": "2024-12-13T14:21:33.299294Z",
     "iopub.status.busy": "2024-12-13T14:21:33.298621Z",
     "iopub.status.idle": "2024-12-13T14:21:35.336469Z",
     "shell.execute_reply": "2024-12-13T14:21:35.335509Z",
     "shell.execute_reply.started": "2024-12-13T14:21:33.299244Z"
    },
    "id": "J32MOnQaq_GA",
    "outputId": "a8c4eda8-4a11-4d57-97c9-b6cacd92a1b4",
    "trusted": true
   },
   "outputs": [],
   "source": [
    "def create_segmentation_colormap(num_classes):\n",
    "    \"\"\"\n",
    "    Create a linear colormap using a predefined palette.\n",
    "    Uses 'viridis' as default because it is perceptually uniform\n",
    "    and works well for colorblindness.\n",
    "    \"\"\"\n",
    "    return plt.cm.viridis(np.linspace(0, 1, num_classes))\n",
    "\n",
    "\n",
    "def apply_colormap(label, colormap=None):\n",
    "    \"\"\"\n",
    "    Apply the colormap to a label.\n",
    "    \"\"\"\n",
    "    # Ensure label is 2D\n",
    "    label = np.squeeze(label)\n",
    "\n",
    "    if colormap is None:\n",
    "        num_classes = len(np.unique(label))\n",
    "        colormap = create_segmentation_colormap(num_classes)\n",
    "\n",
    "    # Apply the colormap\n",
    "    colored = colormap[label.astype(int)]\n",
    "\n",
    "    return colored\n",
    "\n",
    "\n",
    "def plot_sample_batch(images, labels, num_samples=3):\n",
    "    \"\"\"\n",
    "    Display some image and label pairs from the dataset.\n",
    "    \"\"\"\n",
    "    plt.figure(figsize=(15, 4 * num_samples))\n",
    "\n",
    "    colormap = create_segmentation_colormap(num_classes)\n",
    "\n",
    "    for j in range(min(num_samples, len(images))):\n",
    "        # Plot original image\n",
    "        plt.subplot(num_samples, 2, j * 2 + 1)\n",
    "        plt.imshow(images[j], cmap=\"gray\")\n",
    "        plt.title(f\"Image {j+1}\")\n",
    "        plt.axis(\"off\")\n",
    "\n",
    "        # Plot colored label\n",
    "        plt.subplot(num_samples, 2, j * 2 + 2)\n",
    "        colored_label = apply_colormap(labels[j], colormap)\n",
    "        plt.imshow(colored_label)\n",
    "        plt.title(f\"Label {j+1}\")\n",
    "        plt.axis(\"off\")\n",
    "\n",
    "    plt.tight_layout()\n",
    "    plt.show()\n",
    "    plt.close()\n",
    "\n",
    "\n",
    "# Visualize examples from the training set\n",
    "print(\"Visualizing examples from the training set:\")\n",
    "plot_sample_batch(X_train, y_train, num_samples=10)"
   ]
  },
  {
   "cell_type": "code",
   "execution_count": null,
   "metadata": {
    "execution": {
     "iopub.execute_input": "2024-12-13T14:21:35.338759Z",
     "iopub.status.busy": "2024-12-13T14:21:35.338401Z",
     "iopub.status.idle": "2024-12-13T14:21:35.699118Z",
     "shell.execute_reply": "2024-12-13T14:21:35.698249Z",
     "shell.execute_reply.started": "2024-12-13T14:21:35.338722Z"
    },
    "id": "xgIE-cdNLn4s",
    "outputId": "927c7b23-a229-4a67-aae8-95e46b69e54b",
    "trusted": true
   },
   "outputs": [],
   "source": [
    "# Visualize examples from the test set.\n",
    "num_samples = 4\n",
    "plt.figure(figsize=(15, 2 * num_samples))\n",
    "\n",
    "colormap = create_segmentation_colormap(num_classes)\n",
    "\n",
    "for j in range(min(num_samples, len(X_test))):\n",
    "    plt.subplot(num_samples, 1, j + 1)\n",
    "    plt.imshow(X_test[j], cmap=\"gray\")\n",
    "    plt.title(f\"Image {j}\")\n",
    "    plt.axis(\"off\")"
   ]
  },
  {
   "cell_type": "markdown",
   "metadata": {
    "id": "FSliIxBvbs2Q"
   },
   "source": [
    "## 🛠️ Define the model"
   ]
  },
  {
   "cell_type": "code",
   "execution_count": null,
   "metadata": {
    "execution": {
     "iopub.execute_input": "2024-12-13T14:21:35.701290Z",
     "iopub.status.busy": "2024-12-13T14:21:35.700751Z",
     "iopub.status.idle": "2024-12-13T14:21:35.707925Z",
     "shell.execute_reply": "2024-12-13T14:21:35.707028Z",
     "shell.execute_reply.started": "2024-12-13T14:21:35.701239Z"
    },
    "id": "uLNQR71Lsf7a",
    "trusted": true
   },
   "outputs": [],
   "source": [
    "def unet_block(\n",
    "    input_tensor,\n",
    "    filters,\n",
    "    kernel_size=3,\n",
    "    activation=\"relu\",\n",
    "    stack=1,\n",
    "    name=\"\",\n",
    "    groups=8,\n",
    "    dilation_rate=1,\n",
    "):\n",
    "    # Initialise the input tensor\n",
    "    x = input_tensor\n",
    "\n",
    "    # Apply a sequence of Conv2D, Batch Normalisation, and Activation layers for the specified number of stacks\n",
    "    for i in range(stack):\n",
    "        x = tfkl.Conv2D(\n",
    "            filters,\n",
    "            kernel_size=kernel_size,\n",
    "            padding=\"same\",\n",
    "            dilation_rate=dilation_rate,\n",
    "            kernel_regularizer=tfk.regularizers.L2(1e-3),\n",
    "            name=name + \"conv\" + str(i + 1),\n",
    "        )(x)\n",
    "        x = tfkl.GroupNormalization(name=name + \"bn\" + str(i + 1), groups=groups)(x)\n",
    "        x = tfkl.Activation(activation, name=name + \"activation\" + str(i + 1))(x)\n",
    "\n",
    "    # Return the transformed tensor\n",
    "    return x"
   ]
  },
  {
   "cell_type": "code",
   "execution_count": null,
   "metadata": {
    "execution": {
     "iopub.execute_input": "2024-12-13T14:21:35.709480Z",
     "iopub.status.busy": "2024-12-13T14:21:35.708970Z",
     "iopub.status.idle": "2024-12-13T14:21:35.723936Z",
     "shell.execute_reply": "2024-12-13T14:21:35.723254Z",
     "shell.execute_reply.started": "2024-12-13T14:21:35.709452Z"
    },
    "id": "SxxhUBMy4XY6",
    "trusted": true
   },
   "outputs": [],
   "source": [
    "# Define a Residual block with configurable parameters (currently unused, but\n",
    "# used in older models). Note that a modified version of this block is used in\n",
    "# the final model, by combining it with the inception block.\n",
    "def residual_unet_block(\n",
    "    x,\n",
    "    filters,\n",
    "    kernel_size=3,\n",
    "    padding=\"same\",\n",
    "    downsample=False,\n",
    "    activation=\"relu\",\n",
    "    stack=2,\n",
    "    name=\"residual\",\n",
    "    groups=8,\n",
    "    dilation_rate=1,\n",
    "):\n",
    "    for s in range(stack):\n",
    "        # Save input for skip connection.\n",
    "        skip = x\n",
    "\n",
    "        # First convolutional block with Batch Normalisation and activation.\n",
    "        x = tfkl.Conv2D(\n",
    "            filters,\n",
    "            kernel_size,\n",
    "            padding=padding,\n",
    "            name=f\"{name}_conv1_{s}\",\n",
    "            dilation_rate=dilation_rate,\n",
    "        )(x)\n",
    "        x = tfkl.GroupNormalization(name=f\"{name}_bn1_{s}\", groups=groups)(x)\n",
    "        x = tfkl.Activation(activation, name=f\"{name}_act1_{s}\")(x)\n",
    "\n",
    "        # Second convolutional block.\n",
    "        x = tfkl.Conv2D(\n",
    "            filters,\n",
    "            kernel_size,\n",
    "            padding=padding,\n",
    "            name=f\"{name}_conv2_{s}\",\n",
    "            dilation_rate=dilation_rate,\n",
    "        )(x)\n",
    "        x = tfkl.GroupNormalization(name=f\"{name}_bn2_{s}\", groups=groups)(x)\n",
    "\n",
    "        # Adjust skip connection dimension if needed.\n",
    "        if skip.shape[-1] != filters:\n",
    "            skip = tfkl.Conv2D(filters, 1, padding=padding, name=f\"{name}_proj_{s}\")(\n",
    "                skip\n",
    "            )\n",
    "            skip = tfkl.GroupNormalization(name=f\"{name}_proj_bn_{s}\", groups=groups)(\n",
    "                skip\n",
    "            )\n",
    "\n",
    "        # Add skip connection and apply activation.\n",
    "        x = tfkl.Add(name=f\"{name}_add_{s}\")([x, skip])\n",
    "        x = tfkl.Activation(activation, name=f\"{name}_act2_{s}\")(x)\n",
    "\n",
    "    # Optional downsampling.\n",
    "    if downsample:\n",
    "        x = tfkl.MaxPooling2D(2, name=f\"{name}_pool\")(x)\n",
    "\n",
    "    return x"
   ]
  },
  {
   "cell_type": "code",
   "execution_count": null,
   "metadata": {
    "execution": {
     "iopub.execute_input": "2024-12-13T14:21:35.725668Z",
     "iopub.status.busy": "2024-12-13T14:21:35.725225Z",
     "iopub.status.idle": "2024-12-13T14:21:35.741100Z",
     "shell.execute_reply": "2024-12-13T14:21:35.740358Z",
     "shell.execute_reply.started": "2024-12-13T14:21:35.725629Z"
    },
    "id": "QSZB44pd4XY7",
    "trusted": true
   },
   "outputs": [],
   "source": [
    "# Define the Inception block with batch normalization (BN) and with multiple\n",
    "# convolution paths and optional downsampling.\n",
    "def inception_block_bn(\n",
    "    x,\n",
    "    filters,\n",
    "    padding=\"same\",\n",
    "    downsample=False,\n",
    "    activation=\"relu\",\n",
    "    stack=1,\n",
    "    name=\"inception\",\n",
    "    groups=8,\n",
    "):\n",
    "    # This inception block consists of a 1x1 convolution path, a 3x3 convolution\n",
    "    # path, a 5x5 convolution path, and a pooling path. The paths are then\n",
    "    # concatenated to form the final block output.\n",
    "    # The reason for using multiple paths is to allow the model to learn\n",
    "    # different features at different scales, and to increase the model's\n",
    "    # capacity without increasing the number of parameters too much.\n",
    "    # The downsampling (pooling) is not mandatory.\n",
    "\n",
    "    # Loop through specified stack layers for multiple inception paths.\n",
    "    for s in range(stack):\n",
    "        # 1x1 convolution path with batch normalization and activation.\n",
    "        conv1 = tfkl.Conv2D(filters // 4, 1, padding=padding, name=f\"{name}_conv1_{s}\")(\n",
    "            x\n",
    "        )\n",
    "        conv1 = tfkl.GroupNormalization(name=f\"{name}_bn1_{s}\", groups=groups)(conv1)\n",
    "        conv1 = tfkl.Activation(activation, name=f\"{name}_act1_{s}\")(conv1)\n",
    "\n",
    "        # 3x3 convolution path with initial reduction layer.\n",
    "        conv3_reduce = tfkl.Conv2D(\n",
    "            filters // 8, 1, padding=padding, name=f\"{name}_conv3_reduce_{s}\"\n",
    "        )(x)\n",
    "        conv3_reduce = tfkl.GroupNormalization(\n",
    "            name=f\"{name}_bn3_reduce_{s}\", groups=groups\n",
    "        )(conv3_reduce)\n",
    "        conv3_reduce = tfkl.Activation(activation, name=f\"{name}_act3_reduce_{s}\")(\n",
    "            conv3_reduce\n",
    "        )\n",
    "        conv3 = tfkl.Conv2D(filters // 4, 3, padding=padding, name=f\"{name}_conv3_{s}\")(\n",
    "            conv3_reduce\n",
    "        )\n",
    "        conv3 = tfkl.GroupNormalization(name=f\"{name}_bn3_{s}\", groups=groups)(conv3)\n",
    "        conv3 = tfkl.Activation(activation, name=f\"{name}_act3_{s}\")(conv3)\n",
    "\n",
    "        # 5x5 convolution path with initial reduction layer.\n",
    "        conv5_reduce = tfkl.Conv2D(\n",
    "            filters // 12, 1, padding=padding, name=f\"{name}_conv5_reduce_{s}\"\n",
    "        )(x)\n",
    "        conv5_reduce = tfkl.GroupNormalization(\n",
    "            name=f\"{name}_bn5_reduce_{s}\", groups=groups\n",
    "        )(conv5_reduce)\n",
    "        conv5_reduce = tfkl.Activation(activation, name=f\"{name}_act5_reduce_{s}\")(\n",
    "            conv5_reduce\n",
    "        )\n",
    "        conv5 = tfkl.Conv2D(filters // 4, 5, padding=padding, name=f\"{name}_conv5_{s}\")(\n",
    "            conv5_reduce\n",
    "        )\n",
    "        conv5 = tfkl.GroupNormalization(name=f\"{name}_bn5_{s}\", groups=groups)(conv5)\n",
    "        conv5 = tfkl.Activation(activation, name=f\"{name}_act5_{s}\")(conv5)\n",
    "\n",
    "        # Pooling path with projection for spatial dimensionality reduction.\n",
    "        pool = tfkl.MaxPooling2D(\n",
    "            3, strides=1, padding=padding, name=f\"{name}_pooling_{s}\"\n",
    "        )(x)\n",
    "        pool_proj = tfkl.Conv2D(\n",
    "            filters // 4, 1, padding=padding, name=f\"{name}_pool_proj_{s}\"\n",
    "        )(pool)\n",
    "        pool_proj = tfkl.GroupNormalization(\n",
    "            name=f\"{name}_bn_pool_proj_{s}\", groups=groups\n",
    "        )(pool_proj)\n",
    "        pool_proj = tfkl.Activation(activation, name=f\"{name}_act_pool_proj_{s}\")(\n",
    "            pool_proj\n",
    "        )\n",
    "\n",
    "        # Concatenate all paths to form the final block output.\n",
    "        x = tfkl.Concatenate(name=f\"{name}_concat_{s}\")(\n",
    "            [conv1, conv3, conv5, pool_proj]\n",
    "        )\n",
    "\n",
    "    # Apply downsampling if specified.\n",
    "    if downsample:\n",
    "        x = tfkl.MaxPooling2D(2, name=f\"{name}_pool\")(x)\n",
    "    return x"
   ]
  },
  {
   "cell_type": "code",
   "execution_count": null,
   "metadata": {
    "execution": {
     "iopub.execute_input": "2024-12-13T14:21:35.742832Z",
     "iopub.status.busy": "2024-12-13T14:21:35.742227Z",
     "iopub.status.idle": "2024-12-13T14:21:35.758317Z",
     "shell.execute_reply": "2024-12-13T14:21:35.757525Z",
     "shell.execute_reply.started": "2024-12-13T14:21:35.742778Z"
    },
    "id": "OhzrNA4z4XY7",
    "trusted": true
   },
   "outputs": [],
   "source": [
    "# Define the a residual block using an inception block instead of the\n",
    "# convolutional path. This mixed block is used in the final model, and it\n",
    "# combines the benefits of both residual and inception blocks. We believe\n",
    "# that the residual and inception blocks are complementary, as their guesses\n",
    "# don't seem to perfectly overlap. See the report for more details.\n",
    "def inception_residual_unet(\n",
    "    x,\n",
    "    filters,\n",
    "    padding=\"same\",\n",
    "    downsample=False,\n",
    "    activation=\"relu\",\n",
    "    stack=4,\n",
    "    inception_stack=1,\n",
    "    name=\"residual\",\n",
    "    groups=8,\n",
    "):\n",
    "    for s in range(stack):\n",
    "        # Save input for skip connection.\n",
    "        skip = x\n",
    "\n",
    "        # Create the inception block.\n",
    "        x = inception_block_bn(\n",
    "            x,\n",
    "            filters,\n",
    "            padding,\n",
    "            downsample=False,\n",
    "            activation=activation,\n",
    "            stack=inception_stack,\n",
    "            name=f\"{name}_inception_{s}\",\n",
    "            groups=groups,\n",
    "        )\n",
    "\n",
    "        # Adjust skip connection dimension if needed.\n",
    "        if skip.shape[-1] != filters:\n",
    "            skip = tfkl.Conv2D(filters, 1, padding=padding, name=f\"{name}_proj_{s}\")(\n",
    "                skip\n",
    "            )\n",
    "            skip = tfkl.GroupNormalization(name=f\"{name}_proj_bn_{s}\", groups=groups)(\n",
    "                skip\n",
    "            )\n",
    "\n",
    "        # Add skip connection and apply activation.\n",
    "        x = tfkl.Add(name=f\"{name}_add_{s}\")([x, skip])\n",
    "        x = tfkl.Activation(activation, name=f\"{name}_act2_{s}\")(x)\n",
    "\n",
    "    # Optional downsampling.\n",
    "    if downsample:\n",
    "        x = tfkl.MaxPooling2D(2, name=f\"{name}_pool\")(x)\n",
    "\n",
    "    return x"
   ]
  },
  {
   "cell_type": "code",
   "execution_count": null,
   "metadata": {
    "execution": {
     "iopub.execute_input": "2024-12-13T14:21:35.759694Z",
     "iopub.status.busy": "2024-12-13T14:21:35.759348Z",
     "iopub.status.idle": "2024-12-13T14:21:35.772349Z",
     "shell.execute_reply": "2024-12-13T14:21:35.771624Z",
     "shell.execute_reply.started": "2024-12-13T14:21:35.759657Z"
    },
    "id": "wAic1TwgWbSP",
    "trusted": true
   },
   "outputs": [],
   "source": [
    "def attention_gate(input_tensor, gating_tensor, inter_channels):\n",
    "    # 1x1 convolution on the input (skip connection)\n",
    "    theta_x = tfkl.Conv2D(inter_channels, kernel_size=1, strides=2, padding=\"same\")(\n",
    "        input_tensor\n",
    "    )\n",
    "    # 1x1 convolution on the gating (decoder output)\n",
    "    phi_g = tfkl.Conv2D(inter_channels, kernel_size=1, strides=1, padding=\"same\")(\n",
    "        gating_tensor\n",
    "    )\n",
    "    # Add and apply ReLU\n",
    "    add = tfkl.Add()([theta_x, phi_g])\n",
    "    relu = tfkl.Activation(\"relu\")(add)\n",
    "    # Generate attention weights\n",
    "    psi = tfkl.Conv2D(\n",
    "        1, kernel_size=1, strides=1, padding=\"same\", activation=\"sigmoid\"\n",
    "    )(relu)\n",
    "    # Upsample attention weights to match input_tensor spatial dimensions\n",
    "    upsampled_psi = tfkl.UpSampling2D()(psi)\n",
    "    # Multiply input tensor by attention weights\n",
    "    output = tfkl.Multiply()([input_tensor, upsampled_psi])\n",
    "    return output"
   ]
  },
  {
   "cell_type": "code",
   "execution_count": null,
   "metadata": {
    "execution": {
     "iopub.execute_input": "2024-12-13T14:21:35.773507Z",
     "iopub.status.busy": "2024-12-13T14:21:35.773234Z",
     "iopub.status.idle": "2024-12-13T14:21:35.789551Z",
     "shell.execute_reply": "2024-12-13T14:21:35.788657Z",
     "shell.execute_reply.started": "2024-12-13T14:21:35.773463Z"
    },
    "id": "NRNEskCXsiM_",
    "trusted": true
   },
   "outputs": [],
   "source": [
    "def get_unet_model(input_shape=(64, 128, 1), num_classes=num_classes, seed=seed):\n",
    "    tf.random.set_seed(seed)\n",
    "    input_layer = tfkl.Input(shape=input_shape, name=\"input_layer\")\n",
    "    base_filters = 32\n",
    "\n",
    "    # Downsampling path\n",
    "    down_block_1 = unet_block(input_layer, base_filters, name=\"down_block1_\", groups=1)\n",
    "    d1 = tfkl.SpatialDropout2D(0.05)(down_block_1)\n",
    "    d1 = tfkl.MaxPooling2D()(d1)\n",
    "\n",
    "    down_block_2 = unet_block(d1, base_filters * 2, name=\"down_block2_\", groups=2)\n",
    "    d2 = tfkl.SpatialDropout2D(0.1)(down_block_2)\n",
    "    d2 = tfkl.MaxPooling2D()(d2)\n",
    "\n",
    "    down_block_3 = unet_block(d2, base_filters * 4, name=\"down_block3_\", groups=4)\n",
    "    d3 = tfkl.SpatialDropout2D(0.15)(down_block_3)\n",
    "    d3 = tfkl.MaxPooling2D()(d3)\n",
    "\n",
    "    down_block_4 = unet_block(d3, base_filters * 8, name=\"down_block4_\", groups=8)\n",
    "    d4 = tfkl.SpatialDropout2D(0.2)(down_block_4)\n",
    "    d4 = tfkl.MaxPooling2D()(d4)\n",
    "\n",
    "    down_block_5 = unet_block(d4, base_filters * 16, name=\"down_block5_\", groups=8)\n",
    "    d5 = tfkl.SpatialDropout2D(0.25)(down_block_5)\n",
    "    d5 = tfkl.MaxPooling2D()(d5)\n",
    "\n",
    "    # Bottleneck\n",
    "    bottleneck = unet_block(\n",
    "        d5, base_filters * 32, name=\"bottleneck\", groups=8, stack=2, dilation_rate=2\n",
    "    )\n",
    "    bottleneck = tfkl.SpatialDropout2D(0.3)(bottleneck)\n",
    "\n",
    "    # Upsampling path\n",
    "    u1 = tfkl.Conv2DTranspose(\n",
    "        base_filters * 16, kernel_size=2, strides=2, padding=\"same\"\n",
    "    )(bottleneck)\n",
    "    u1 = tfkl.Concatenate()([u1, down_block_5])\n",
    "    u1 = unet_block(u1, base_filters * 16, name=\"up_block1_\", groups=8)\n",
    "\n",
    "    u2 = tfkl.Conv2DTranspose(\n",
    "        base_filters * 8, kernel_size=2, strides=2, padding=\"same\"\n",
    "    )(u1)\n",
    "    u2 = tfkl.Concatenate()([u2, down_block_4])\n",
    "    u2 = unet_block(u2, base_filters * 8, name=\"up_block2_\", groups=8)\n",
    "\n",
    "    u3 = tfkl.Conv2DTranspose(\n",
    "        base_filters * 4, kernel_size=2, strides=2, padding=\"same\"\n",
    "    )(u2)\n",
    "    u3 = tfkl.Concatenate()([u3, down_block_3])\n",
    "    u3 = unet_block(u3, base_filters * 4, name=\"up_block3_\", groups=4)\n",
    "\n",
    "    u4 = tfkl.Conv2DTranspose(\n",
    "        base_filters * 2, kernel_size=2, strides=2, padding=\"same\"\n",
    "    )(u3)\n",
    "    u4 = tfkl.Concatenate()([u4, down_block_2])\n",
    "    u4 = unet_block(u4, base_filters * 2, name=\"up_block4_\", groups=2)\n",
    "\n",
    "    u5 = tfkl.Conv2DTranspose(base_filters, kernel_size=2, strides=2, padding=\"same\")(\n",
    "        u4\n",
    "    )\n",
    "    u5 = tfkl.Concatenate()([u5, down_block_1])\n",
    "    u5 = unet_block(u5, base_filters, name=\"up_block5_\", groups=1)\n",
    "\n",
    "    # Output Layer\n",
    "    output_layer = tfkl.Conv2D(\n",
    "        num_classes,\n",
    "        kernel_size=1,\n",
    "        padding=\"same\",\n",
    "        activation=\"softmax\",\n",
    "        name=\"output_layer\",\n",
    "    )(u5)\n",
    "\n",
    "    model = tf.keras.Model(inputs=input_layer, outputs=output_layer, name=\"UNet\")\n",
    "    return model"
   ]
  },
  {
   "cell_type": "code",
   "execution_count": null,
   "metadata": {
    "execution": {
     "iopub.execute_input": "2024-12-13T14:21:35.791218Z",
     "iopub.status.busy": "2024-12-13T14:21:35.790908Z",
     "iopub.status.idle": "2024-12-13T14:21:35.802827Z",
     "shell.execute_reply": "2024-12-13T14:21:35.801963Z",
     "shell.execute_reply.started": "2024-12-13T14:21:35.791189Z"
    },
    "id": "VP8fEvC9vpsr",
    "trusted": true
   },
   "outputs": [],
   "source": [
    "# Define parameters\n",
    "epochs = 1000\n",
    "patience = 45\n",
    "learning_rate = 1e-4"
   ]
  },
  {
   "cell_type": "code",
   "execution_count": null,
   "metadata": {
    "execution": {
     "iopub.execute_input": "2024-12-13T14:21:35.804177Z",
     "iopub.status.busy": "2024-12-13T14:21:35.803856Z",
     "iopub.status.idle": "2024-12-13T14:21:36.615501Z",
     "shell.execute_reply": "2024-12-13T14:21:36.614738Z",
     "shell.execute_reply.started": "2024-12-13T14:21:35.804147Z"
    },
    "id": "CBkb3TRF1KJx",
    "outputId": "95f09d88-43e9-4f59-886a-385bae6e5a63",
    "trusted": true
   },
   "outputs": [],
   "source": [
    "model = get_unet_model()\n",
    "\n",
    "# Print a detailed summary of the model with expanded nested layers and trainable parameters.\n",
    "model.summary(expand_nested=True, show_trainable=True)\n",
    "\n",
    "# Generate and display a graphical representation of the model architecture.\n",
    "try:\n",
    "    tf.keras.utils.plot_model(model, show_trainable=True, expand_nested=True, dpi=70)\n",
    "except:\n",
    "    print(\"Model too complex to plot!\")"
   ]
  },
  {
   "cell_type": "markdown",
   "metadata": {
    "id": "eDBA-uBFsRAd"
   },
   "source": [
    "## Train the model"
   ]
  },
  {
   "cell_type": "code",
   "execution_count": null,
   "metadata": {
    "execution": {
     "iopub.execute_input": "2024-12-13T14:21:36.617207Z",
     "iopub.status.busy": "2024-12-13T14:21:36.616870Z",
     "iopub.status.idle": "2024-12-13T14:21:36.628151Z",
     "shell.execute_reply": "2024-12-13T14:21:36.627264Z",
     "shell.execute_reply.started": "2024-12-13T14:21:36.617176Z"
    },
    "id": "GyHMGG5EdXGr",
    "trusted": true
   },
   "outputs": [],
   "source": [
    "# Define custom Mean Intersection Over Union metric\n",
    "@tfk.utils.register_keras_serializable()\n",
    "class MeanIntersectionOverUnion(tf.keras.metrics.MeanIoU):\n",
    "    def __init__(\n",
    "        self, num_classes, labels_to_exclude=None, name=\"mean_iou\", dtype=None\n",
    "    ):\n",
    "        super(MeanIntersectionOverUnion, self).__init__(\n",
    "            num_classes=num_classes, name=name, dtype=dtype\n",
    "        )\n",
    "        if labels_to_exclude is None:\n",
    "            labels_to_exclude = [0]  # Default to excluding label 0\n",
    "        self.labels_to_exclude = labels_to_exclude\n",
    "\n",
    "    def update_state(self, y_true, y_pred, sample_weight=None):\n",
    "        # Convert predictions to class labels\n",
    "        y_pred = tf.math.argmax(y_pred, axis=-1)\n",
    "\n",
    "        # Flatten the tensors\n",
    "        y_true = tf.reshape(y_true, [-1])\n",
    "        y_pred = tf.reshape(y_pred, [-1])\n",
    "\n",
    "        # Apply mask to exclude specified labels\n",
    "        for label in self.labels_to_exclude:\n",
    "            mask = tf.not_equal(y_true, label)\n",
    "            y_true = tf.boolean_mask(y_true, mask)\n",
    "            y_pred = tf.boolean_mask(y_pred, mask)\n",
    "\n",
    "        # Update the state\n",
    "        return super().update_state(y_true, y_pred, sample_weight)\n",
    "\n",
    "\n",
    "# Visualization callback\n",
    "class VizCallback(tf.keras.callbacks.Callback):\n",
    "    def __init__(self, image, label, frequency=5):\n",
    "        super().__init__()\n",
    "        self.image = image\n",
    "        self.label = label\n",
    "        self.frequency = frequency\n",
    "\n",
    "    def on_epoch_end(self, epoch, logs=None):\n",
    "        if epoch % self.frequency == 0:  # Visualize only every \"frequency\" epochs\n",
    "            image, label = self.image, self.label\n",
    "            label = apply_category_mapping(label)\n",
    "            pred = self.model.predict(image, verbose=0)\n",
    "            y_pred = tf.math.argmax(pred, axis=-1)\n",
    "            y_pred = y_pred.numpy()\n",
    "\n",
    "            # Create colormap\n",
    "            colormap = create_segmentation_colormap(num_classes)\n",
    "\n",
    "            plt.figure(figsize=(16, 4))\n",
    "\n",
    "            # Input image\n",
    "            plt.subplot(1, 3, 1)\n",
    "            plt.imshow(image[0], cmap=\"gray\")\n",
    "            plt.title(\"Input Image\")\n",
    "            plt.axis(\"off\")\n",
    "\n",
    "            # Ground truth\n",
    "            plt.subplot(1, 3, 2)\n",
    "            colored_label = apply_colormap(label.numpy(), colormap)\n",
    "            plt.imshow(colored_label)\n",
    "            plt.title(\"Ground Truth Mask\")\n",
    "            plt.axis(\"off\")\n",
    "\n",
    "            # Prediction\n",
    "            plt.subplot(1, 3, 3)\n",
    "            colored_pred = apply_colormap(y_pred[0], colormap)\n",
    "            plt.imshow(colored_pred)\n",
    "            plt.title(\"Predicted Mask\")\n",
    "            plt.axis(\"off\")\n",
    "\n",
    "            plt.tight_layout()\n",
    "            plt.show()\n",
    "            plt.close()"
   ]
  },
  {
   "cell_type": "code",
   "execution_count": null,
   "metadata": {
    "execution": {
     "iopub.execute_input": "2024-12-13T14:21:36.629520Z",
     "iopub.status.busy": "2024-12-13T14:21:36.629198Z",
     "iopub.status.idle": "2024-12-13T14:21:36.643685Z",
     "shell.execute_reply": "2024-12-13T14:21:36.642904Z",
     "shell.execute_reply.started": "2024-12-13T14:21:36.629487Z"
    },
    "id": "zOOL9nbyXzuJ",
    "trusted": true
   },
   "outputs": [],
   "source": [
    "from tensorflow.keras import backend as K\n",
    "\n",
    "\n",
    "def iou_loss(y_true, y_pred, num_classes=num_classes, smooth=1e-6):\n",
    "    \"\"\"\n",
    "    Compute the Intersection over Union (IoU) loss.\n",
    "    :param y_true: Ground truth tensor (not one-hot encoded).\n",
    "    :param y_pred: Predicted tensor (probabilities or logits).\n",
    "    :param smooth: Smoothing factor to avoid division by zero.\n",
    "    :return: IoU loss value.\n",
    "    \"\"\"\n",
    "    y_true_one_hot = tf.one_hot(tf.cast(y_true, tf.int32), num_classes)\n",
    "\n",
    "    # Initialize a list to store IoU values for each class (ignoring class 0)\n",
    "    iou_values = []\n",
    "\n",
    "    # Loop over all classes (excluding class 0)\n",
    "    for i in range(1, num_classes):  # Start from 1 to exclude background (class 0)\n",
    "        # Get the probabilities for the current class (class i)\n",
    "        y_pred_class = y_pred[..., i]\n",
    "        y_true_class = y_true_one_hot[..., i]\n",
    "\n",
    "        # Flatten the predicted probabilities and true labels for class i\n",
    "        y_true_f_class = K.flatten(y_true_class)\n",
    "        y_pred_f_class = K.flatten(y_pred_class)\n",
    "\n",
    "        # Calculate intersection and union for class i\n",
    "        intersection = K.sum(y_true_f_class * y_pred_f_class)\n",
    "        union = K.sum(y_true_f_class) + K.sum(y_pred_f_class) - intersection\n",
    "\n",
    "        # Compute IoU for this class\n",
    "        iou_class = (intersection + smooth) / (union + smooth)\n",
    "        iou_values.append(iou_class)\n",
    "\n",
    "    # Compute the mean IoU over all classes (excluding class 0)\n",
    "    mean_iou = K.mean(K.stack(iou_values))\n",
    "\n",
    "    # Return mean IoU loss (1 - mean IoU)\n",
    "    return 1 - mean_iou"
   ]
  },
  {
   "cell_type": "code",
   "execution_count": null,
   "metadata": {
    "execution": {
     "iopub.execute_input": "2024-12-13T14:21:36.659723Z",
     "iopub.status.busy": "2024-12-13T14:21:36.659486Z",
     "iopub.status.idle": "2024-12-13T14:21:36.672790Z",
     "shell.execute_reply": "2024-12-13T14:21:36.671960Z",
     "shell.execute_reply.started": "2024-12-13T14:21:36.659699Z"
    },
    "id": "T4Fw7pgu4XY8",
    "trusted": true
   },
   "outputs": [],
   "source": [
    "# Define a custom loss\n",
    "class CustomLoss(tfk.losses.Loss):\n",
    "    def __init__(self, alpha, num_classes=num_classes, name=\"custom_loss\", **kwargs):\n",
    "        super(CustomLoss, self).__init__(name=name, **kwargs)\n",
    "        self.alpha = alpha\n",
    "        self.num_classes = num_classes\n",
    "\n",
    "    def call(self, y_true, y_pred):\n",
    "        # Calculate the loss\n",
    "        return (1 - self.alpha) * focal_loss.sparse_categorical_focal_loss(\n",
    "            y_true, y_pred, class_weight=class_weights, gamma=3.0\n",
    "        ) + self.alpha * iou_loss(y_true, y_pred)"
   ]
  },
  {
   "cell_type": "code",
   "execution_count": null,
   "metadata": {
    "execution": {
     "iopub.execute_input": "2024-12-13T14:21:36.674150Z",
     "iopub.status.busy": "2024-12-13T14:21:36.673856Z",
     "iopub.status.idle": "2024-12-13T14:21:36.698855Z",
     "shell.execute_reply": "2024-12-13T14:21:36.697997Z",
     "shell.execute_reply.started": "2024-12-13T14:21:36.674105Z"
    },
    "id": "BKIjlRxIdl6z",
    "outputId": "9f80157b-ba5e-4702-8746-937e98640deb",
    "trusted": true
   },
   "outputs": [],
   "source": [
    "# Compile the model\n",
    "print(\"Compiling model...\")\n",
    "model.compile(\n",
    "    loss=CustomLoss(0.8),\n",
    "    optimizer=tfk.optimizers.AdamW(learning_rate),\n",
    "    metrics=[\n",
    "        \"accuracy\",\n",
    "        MeanIntersectionOverUnion(num_classes=num_classes, labels_to_exclude=[0]),\n",
    "    ],\n",
    ")\n",
    "print(\"Model compiled!\")"
   ]
  },
  {
   "cell_type": "code",
   "execution_count": null,
   "metadata": {
    "execution": {
     "iopub.execute_input": "2024-12-13T14:21:36.700181Z",
     "iopub.status.busy": "2024-12-13T14:21:36.699908Z",
     "iopub.status.idle": "2024-12-13T14:21:36.717937Z",
     "shell.execute_reply": "2024-12-13T14:21:36.717330Z",
     "shell.execute_reply.started": "2024-12-13T14:21:36.700155Z"
    },
    "id": "J2f20uQ5tIMC",
    "trusted": true
   },
   "outputs": [],
   "source": [
    "# Setup callbacks\n",
    "early_stopping = tfk.callbacks.EarlyStopping(\n",
    "    monitor=\"val_mean_iou\", mode=\"max\", patience=patience, restore_best_weights=True\n",
    ")\n",
    "\n",
    "image, label = val_dataset.take(1).get_single_element()\n",
    "viz_callback = VizCallback(image[1:2, ...], label[1:2, ...])\n",
    "\n",
    "reduce_lr_callback = tfk.callbacks.ReduceLROnPlateau(\n",
    "    monitor=\"val_loss\", patience=patience / 3, factor=0.1, min_lr=learning_rate * 1e-4\n",
    ")\n",
    "\n",
    "callbacks = [early_stopping, viz_callback, reduce_lr_callback]"
   ]
  },
  {
   "cell_type": "code",
   "execution_count": null,
   "metadata": {
    "execution": {
     "iopub.execute_input": "2024-12-13T14:21:36.719049Z",
     "iopub.status.busy": "2024-12-13T14:21:36.718798Z"
    },
    "id": "pMCbSMQ_-XoH",
    "outputId": "7fdb22c5-c431-4d1b-e303-879670c5ee57",
    "trusted": true
   },
   "outputs": [],
   "source": [
    "history = model.fit(\n",
    "    train_dataset,\n",
    "    epochs=epochs,\n",
    "    validation_data=val_dataset,\n",
    "    callbacks=callbacks,\n",
    "    verbose=1,\n",
    ").history\n",
    "\n",
    "# Calculate and print the final validation accuracy\n",
    "final_val_meanIoU = round(max(history[\"val_mean_iou\"]) * 100, 2)\n",
    "print(f\"Final validation Mean Intersection Over Union: {final_val_meanIoU}%\")"
   ]
  },
  {
   "cell_type": "code",
   "execution_count": null,
   "metadata": {
    "id": "PtM0ubgdOzG-",
    "outputId": "be5d6595-e892-4488-c071-43bc860cd0e9",
    "trusted": true
   },
   "outputs": [],
   "source": [
    "timestep_str = datetime.now().strftime(\"%y%m%d_%H%M%S\")\n",
    "model_filename = f\"model_{timestep_str}.keras\"\n",
    "model.save(model_filename)\n",
    "del model\n",
    "\n",
    "print(f\"Model saved to {model_filename}\")"
   ]
  },
  {
   "cell_type": "markdown",
   "metadata": {
    "id": "RNp6pUZuddqC"
   },
   "source": [
    "## 📊 Prepare Your Submission\n",
    "\n",
    "In our Kaggle competition, submissions are made as `csv` files. To create a proper `csv` file, you need to flatten your predictions and include an `id` column as the first column of your dataframe. To maintain consistency between your results and our solution, please avoid shuffling the test set. The code below demonstrates how to prepare the `csv` file from your model predictions.\n",
    "\n",
    "\n"
   ]
  },
  {
   "cell_type": "code",
   "execution_count": null,
   "metadata": {
    "id": "FMIq69eWgRmr",
    "outputId": "ef114b55-3581-4a47-b4ae-6ae8e1f4f87b",
    "trusted": true
   },
   "outputs": [],
   "source": [
    "model = tfk.models.load_model(model_filename, compile=False)\n",
    "print(f\"Model loaded from {model_filename}\")"
   ]
  },
  {
   "cell_type": "code",
   "execution_count": null,
   "metadata": {
    "id": "z287uIQ_VGoK",
    "outputId": "93bf5ed1-d957-4a22-d4c2-6f82ea2497b1",
    "trusted": true
   },
   "outputs": [],
   "source": [
    "preds = model.predict(X_test)\n",
    "preds = np.argmax(preds, axis=-1)\n",
    "print(f\"Predictions shape: {preds.shape}\")"
   ]
  },
  {
   "cell_type": "code",
   "execution_count": null,
   "metadata": {
    "id": "SPjMEKqZW5jX",
    "trusted": true
   },
   "outputs": [],
   "source": [
    "def y_to_df(y) -> pd.DataFrame:\n",
    "    \"\"\"Converts segmentation predictions into a DataFrame format for Kaggle.\"\"\"\n",
    "    n_samples = len(y)\n",
    "    y_flat = y.reshape(n_samples, -1)\n",
    "    df = pd.DataFrame(y_flat)\n",
    "    df[\"id\"] = np.arange(n_samples)\n",
    "    cols = [\"id\"] + [col for col in df.columns if col != \"id\"]\n",
    "    return df[cols]"
   ]
  },
  {
   "cell_type": "code",
   "execution_count": null,
   "metadata": {
    "id": "s18kX1uDconq",
    "outputId": "3e902b7a-a69d-46bc-e066-1cfc931e915f",
    "trusted": true
   },
   "outputs": [],
   "source": [
    "# Create and download the csv submission file\n",
    "timestep_str = model_filename.replace(\"model_\", \"\").replace(\".keras\", \"\")\n",
    "submission_filename = f\"submission_{timestep_str}.csv\"\n",
    "submission_df = y_to_df(preds)\n",
    "submission_df.to_csv(submission_filename, index=False)\n",
    "\n",
    "# from google.colab import files\n",
    "# files.download(submission_filename)"
   ]
  },
  {
   "cell_type": "code",
   "execution_count": null,
   "metadata": {
    "id": "lLRqxuiyYXuE",
    "outputId": "8f40a2be-e15a-4cf9-912a-341af3fab40d",
    "trusted": true
   },
   "outputs": [],
   "source": [
    "from sklearn.metrics import (\n",
    "    accuracy_score,\n",
    "    f1_score,\n",
    "    precision_score,\n",
    "    recall_score,\n",
    "    confusion_matrix,\n",
    ")\n",
    "import seaborn as sns\n",
    "\n",
    "# Predict class probabilities and get predicted classes on the validation set.\n",
    "test_predictions = np.argmax(model.predict(X_val), axis=-1).flatten()\n",
    "\n",
    "# Extract ground truth classes.\n",
    "test_gt = y_val.flatten()\n",
    "\n",
    "# Calculate and display test set accuracy.\n",
    "test_accuracy = accuracy_score(test_gt, test_predictions)\n",
    "print(f\"Accuracy score over the test set: {round(test_accuracy, 4)}\")\n",
    "\n",
    "# Calculate and display test set precision.\n",
    "test_precision = precision_score(test_gt, test_predictions, average=\"weighted\")\n",
    "print(f\"Precision score over the test set: {round(test_precision, 4)}\")\n",
    "\n",
    "# Calculate and display test set recall.\n",
    "test_recall = recall_score(test_gt, test_predictions, average=\"weighted\")\n",
    "print(f\"Recall score over the test set: {round(test_recall, 4)}\")\n",
    "\n",
    "# Calculate and display test set F1 score.\n",
    "test_f1 = f1_score(test_gt, test_predictions, average=\"weighted\")\n",
    "print(f\"F1 score over the test set: {round(test_f1, 4)}\")\n",
    "\n",
    "# Compute the confusion matrix.\n",
    "cm = confusion_matrix(test_gt, test_predictions)\n",
    "\n",
    "# Create labels combining confusion matrix values.\n",
    "labels = np.array([f\"{num}\" for num in cm.flatten()]).reshape(cm.shape)\n",
    "\n",
    "# Plot the confusion matrix with class labels.\n",
    "plt.figure(figsize=(8, 6))\n",
    "sns.heatmap(\n",
    "    cm,\n",
    "    annot=labels,\n",
    "    fmt=\"\",\n",
    "    xticklabels=range(num_classes),\n",
    "    yticklabels=range(num_classes),\n",
    "    cmap=\"Blues\",\n",
    ")\n",
    "plt.xlabel(\"Predicted labels\")\n",
    "plt.ylabel(\"True labels\")\n",
    "plt.show()"
   ]
  },
  {
   "cell_type": "markdown",
   "metadata": {
    "id": "cQEgmFTPfz1n"
   },
   "source": [
    "#  \n",
    "<img src=\"https://airlab.deib.polimi.it/wp-content/uploads/2019/07/airlab-logo-new_cropped.png\" width=\"350\">\n",
    "\n",
    "<img src=\"https://upload.wikimedia.org/wikipedia/commons/thumb/9/95/Instagram_logo_2022.svg/800px-Instagram_logo_2022.svg.png\" width=\"15\"> **Instagram:** https://www.instagram.com/airlab_polimi/\n",
    "\n",
    "<img src=\"https://upload.wikimedia.org/wikipedia/commons/thumb/8/81/LinkedIn_icon.svg/2048px-LinkedIn_icon.svg.png\" width=\"15\"> **LinkedIn:** https://www.linkedin.com/company/airlab-polimi/\n",
    "___\n",
    "Credits: Alberto Archetti 📧 alberto.archetti@polito.it\n",
    "\n",
    "\n",
    "\n",
    "\n",
    "\n",
    "```\n",
    "   Copyright 2024 Alberto Archetti\n",
    "\n",
    "   Licensed under the Apache License, Version 2.0 (the \"License\");\n",
    "   you may not use this file except in compliance with the License.\n",
    "   You may obtain a copy of the License at\n",
    "\n",
    "       http://www.apache.org/licenses/LICENSE-2.0\n",
    "\n",
    "   Unless required by applicable law or agreed to in writing, software\n",
    "   distributed under the License is distributed on an \"AS IS\" BASIS,\n",
    "   WITHOUT WARRANTIES OR CONDITIONS OF ANY KIND, either express or implied.\n",
    "   See the License for the specific language governing permissions and\n",
    "   limitations under the License.\n",
    "```"
   ]
  }
 ],
 "metadata": {
  "accelerator": "GPU",
  "colab": {
   "gpuType": "T4",
   "provenance": []
  },
  "kaggle": {
   "accelerator": "gpu",
   "dataSources": [
    {
     "datasetId": 6291230,
     "sourceId": 10183992,
     "sourceType": "datasetVersion"
    }
   ],
   "dockerImageVersionId": 30805,
   "isGpuEnabled": true,
   "isInternetEnabled": true,
   "language": "python",
   "sourceType": "notebook"
  },
  "kernelspec": {
   "display_name": "Python 3",
   "language": "python",
   "name": "python3"
  },
  "language_info": {
   "codemirror_mode": {
    "name": "ipython",
    "version": 3
   },
   "file_extension": ".py",
   "mimetype": "text/x-python",
   "name": "python",
   "nbconvert_exporter": "python",
   "pygments_lexer": "ipython3",
   "version": "3.10.14"
  }
 },
 "nbformat": 4,
 "nbformat_minor": 4
}
